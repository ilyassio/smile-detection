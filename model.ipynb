{
 "cells": [
  {
   "cell_type": "code",
   "execution_count": 1,
   "metadata": {},
   "outputs": [],
   "source": [
    "import os\n",
    "import tensorflow as tf\n",
    "import cv2\n",
    "import numpy as np\n",
    "from skimage.feature import hog\n",
    "from sklearn.model_selection import train_test_split\n"
   ]
  },
  {
   "cell_type": "code",
   "execution_count": 2,
   "metadata": {},
   "outputs": [],
   "source": [
    "DATASET_PATH = './datasets/'\n",
    "CATEGORIES = ['negatives', 'positives']\n",
    "IMG_SIZE = 128"
   ]
  },
  {
   "cell_type": "code",
   "execution_count": 3,
   "metadata": {},
   "outputs": [],
   "source": [
    "def read_data():\n",
    "    X = []\n",
    "    y = []\n",
    "    \n",
    "    for category in CATEGORIES:\n",
    "        path = os.path.join(DATASET_PATH, category)\n",
    "        label = CATEGORIES.index(category)\n",
    "\n",
    "        for img_name in os.listdir(path):\n",
    "            img_path = os.path.join(path, img_name)\n",
    "            img = cv2.imread(img_path, 0)\n",
    "            img = cv2.resize(img, (IMG_SIZE, IMG_SIZE))\n",
    "            features = hog(img, orientations=8, pixels_per_cell=(16, 16), cells_per_block=(4, 4), visualize=False)\n",
    "            X.append(features.tolist())\n",
    "            y.append(label)\n",
    "        \n",
    "    return np.array(X), np.array(y)"
   ]
  },
  {
   "cell_type": "code",
   "execution_count": 4,
   "metadata": {},
   "outputs": [],
   "source": [
    "X, y = read_data()"
   ]
  },
  {
   "cell_type": "code",
   "execution_count": 5,
   "metadata": {},
   "outputs": [],
   "source": [
    "(X_train, X_test, y_train, y_test) = train_test_split(X, y, test_size=0.2, stratify=y, random_state=42)\n",
    "(X_train, X_valid, y_train, y_valid) = train_test_split(X_train, y_train, test_size=0.2, stratify=y_train, random_state=42)"
   ]
  },
  {
   "cell_type": "code",
   "execution_count": 6,
   "metadata": {},
   "outputs": [
    {
     "name": "stdout",
     "output_type": "stream",
     "text": [
      "Metal device set to: Apple M1\n",
      "\n",
      "systemMemory: 16.00 GB\n",
      "maxCacheSize: 5.33 GB\n",
      "\n"
     ]
    },
    {
     "name": "stderr",
     "output_type": "stream",
     "text": [
      "2022-12-17 17:48:49.046598: I tensorflow/core/common_runtime/pluggable_device/pluggable_device_factory.cc:305] Could not identify NUMA node of platform GPU ID 0, defaulting to 0. Your kernel may not have been built with NUMA support.\n",
      "2022-12-17 17:48:49.046743: I tensorflow/core/common_runtime/pluggable_device/pluggable_device_factory.cc:271] Created TensorFlow device (/job:localhost/replica:0/task:0/device:GPU:0 with 0 MB memory) -> physical PluggableDevice (device: 0, name: METAL, pci bus id: <undefined>)\n"
     ]
    }
   ],
   "source": [
    "model = tf.keras.Sequential([\n",
    "    tf.keras.layers.Dense(128, activation =\"relu\"),\n",
    "    tf.keras.layers.Dense(128, activation =\"relu\"),\n",
    "    tf.keras.layers.Dense(128, activation =\"relu\"),\n",
    "    tf.keras.layers.Dropout(0.3),\n",
    "    tf.keras.layers.Dense(1, activation='sigmoid')\n",
    "])\n",
    "\n",
    "model.compile(optimizer=\"rmsprop\", loss=\"BinaryCrossentropy\", metrics=[\"accuracy\"])"
   ]
  },
  {
   "cell_type": "code",
   "execution_count": 7,
   "metadata": {},
   "outputs": [
    {
     "name": "stdout",
     "output_type": "stream",
     "text": [
      "Epoch 1/20\n"
     ]
    },
    {
     "name": "stderr",
     "output_type": "stream",
     "text": [
      "2022-12-17 17:48:49.242841: W tensorflow/core/platform/profile_utils/cpu_utils.cc:128] Failed to get CPU frequency: 0 Hz\n",
      "2022-12-17 17:48:49.521922: I tensorflow/core/grappler/optimizers/custom_graph_optimizer_registry.cc:113] Plugin optimizer for device_type GPU is enabled.\n"
     ]
    },
    {
     "name": "stdout",
     "output_type": "stream",
     "text": [
      "264/264 [==============================] - ETA: 0s - loss: 0.3583 - accuracy: 0.8434"
     ]
    },
    {
     "name": "stderr",
     "output_type": "stream",
     "text": [
      "2022-12-17 17:48:52.520650: I tensorflow/core/grappler/optimizers/custom_graph_optimizer_registry.cc:113] Plugin optimizer for device_type GPU is enabled.\n"
     ]
    },
    {
     "name": "stdout",
     "output_type": "stream",
     "text": [
      "264/264 [==============================] - 4s 12ms/step - loss: 0.3583 - accuracy: 0.8434 - val_loss: 0.4592 - val_accuracy: 0.7945\n",
      "Epoch 2/20\n",
      "264/264 [==============================] - 3s 11ms/step - loss: 0.2691 - accuracy: 0.8913 - val_loss: 0.2804 - val_accuracy: 0.8828\n",
      "Epoch 3/20\n",
      "264/264 [==============================] - 3s 10ms/step - loss: 0.2444 - accuracy: 0.9033 - val_loss: 0.2605 - val_accuracy: 0.8951\n",
      "Epoch 4/20\n",
      "264/264 [==============================] - 3s 10ms/step - loss: 0.2243 - accuracy: 0.9105 - val_loss: 0.2611 - val_accuracy: 0.8932\n",
      "Epoch 5/20\n",
      "264/264 [==============================] - 3s 10ms/step - loss: 0.2085 - accuracy: 0.9128 - val_loss: 0.2589 - val_accuracy: 0.8975\n",
      "Epoch 6/20\n",
      "264/264 [==============================] - 3s 10ms/step - loss: 0.1930 - accuracy: 0.9204 - val_loss: 0.3226 - val_accuracy: 0.8752\n",
      "Epoch 7/20\n",
      "264/264 [==============================] - 3s 10ms/step - loss: 0.1872 - accuracy: 0.9228 - val_loss: 0.2628 - val_accuracy: 0.9041\n",
      "Epoch 8/20\n",
      "264/264 [==============================] - 3s 10ms/step - loss: 0.1742 - accuracy: 0.9304 - val_loss: 0.2953 - val_accuracy: 0.8932\n",
      "Epoch 9/20\n",
      "264/264 [==============================] - 3s 10ms/step - loss: 0.1655 - accuracy: 0.9336 - val_loss: 0.3263 - val_accuracy: 0.9089\n",
      "Epoch 10/20\n",
      "264/264 [==============================] - 3s 10ms/step - loss: 0.1518 - accuracy: 0.9402 - val_loss: 0.5098 - val_accuracy: 0.8984\n",
      "Epoch 11/20\n",
      "264/264 [==============================] - 3s 10ms/step - loss: 0.1425 - accuracy: 0.9416 - val_loss: 0.3481 - val_accuracy: 0.9022\n",
      "Epoch 12/20\n",
      "264/264 [==============================] - 3s 10ms/step - loss: 0.1404 - accuracy: 0.9456 - val_loss: 0.3499 - val_accuracy: 0.8937\n",
      "Epoch 13/20\n",
      "264/264 [==============================] - 3s 10ms/step - loss: 0.1284 - accuracy: 0.9481 - val_loss: 0.4922 - val_accuracy: 0.8994\n",
      "Epoch 14/20\n",
      "264/264 [==============================] - 3s 10ms/step - loss: 0.1147 - accuracy: 0.9554 - val_loss: 0.5873 - val_accuracy: 0.8980\n",
      "Epoch 15/20\n",
      "264/264 [==============================] - 3s 10ms/step - loss: 0.1117 - accuracy: 0.9551 - val_loss: 0.4549 - val_accuracy: 0.9056\n",
      "Epoch 16/20\n",
      "264/264 [==============================] - 3s 10ms/step - loss: 0.1017 - accuracy: 0.9593 - val_loss: 0.5262 - val_accuracy: 0.8927\n",
      "Epoch 17/20\n",
      "264/264 [==============================] - 3s 10ms/step - loss: 0.0992 - accuracy: 0.9630 - val_loss: 0.7352 - val_accuracy: 0.8989\n",
      "Epoch 18/20\n",
      "264/264 [==============================] - 3s 10ms/step - loss: 0.0914 - accuracy: 0.9676 - val_loss: 1.2647 - val_accuracy: 0.8780\n",
      "Epoch 19/20\n",
      "264/264 [==============================] - 3s 10ms/step - loss: 0.0888 - accuracy: 0.9688 - val_loss: 0.6760 - val_accuracy: 0.9041\n",
      "Epoch 20/20\n",
      "264/264 [==============================] - 3s 10ms/step - loss: 0.0818 - accuracy: 0.9714 - val_loss: 0.8794 - val_accuracy: 0.8994\n"
     ]
    },
    {
     "data": {
      "text/plain": [
       "<keras.callbacks.History at 0x281242af0>"
      ]
     },
     "execution_count": 7,
     "metadata": {},
     "output_type": "execute_result"
    }
   ],
   "source": [
    "model.fit(X_train, y_train, batch_size=32, epochs=20, validation_data=(X_valid, y_valid))"
   ]
  },
  {
   "cell_type": "code",
   "execution_count": 10,
   "metadata": {},
   "outputs": [
    {
     "name": "stdout",
     "output_type": "stream",
     "text": [
      "83/83 [==============================] - 0s 4ms/step - loss: 0.6481 - accuracy: 0.9157\n"
     ]
    },
    {
     "data": {
      "text/plain": [
       "[0.6481258273124695, 0.9156855344772339]"
      ]
     },
     "execution_count": 10,
     "metadata": {},
     "output_type": "execute_result"
    }
   ],
   "source": [
    "model.evaluate(X_test, y_test)"
   ]
  },
  {
   "cell_type": "code",
   "execution_count": 11,
   "metadata": {},
   "outputs": [
    {
     "name": "stderr",
     "output_type": "stream",
     "text": [
      "2022-12-17 17:52:02.681334: W tensorflow/python/util/util.cc:368] Sets are not currently considered sequences, but this may change in the future, so consider avoiding using them.\n"
     ]
    },
    {
     "name": "stdout",
     "output_type": "stream",
     "text": [
      "INFO:tensorflow:Assets written to: model/assets\n"
     ]
    }
   ],
   "source": [
    "tf.keras.models.save_model(model, \"model\")"
   ]
  }
 ],
 "metadata": {
  "kernelspec": {
   "display_name": "Python 3.9.12 ('base')",
   "language": "python",
   "name": "python3"
  },
  "language_info": {
   "codemirror_mode": {
    "name": "ipython",
    "version": 3
   },
   "file_extension": ".py",
   "mimetype": "text/x-python",
   "name": "python",
   "nbconvert_exporter": "python",
   "pygments_lexer": "ipython3",
   "version": "3.9.12"
  },
  "orig_nbformat": 4,
  "vscode": {
   "interpreter": {
    "hash": "6f8c62b2e294bd8f6cd3fd9143b146d04a765500d0d3c90a7316c2e7f5277e53"
   }
  }
 },
 "nbformat": 4,
 "nbformat_minor": 2
}
